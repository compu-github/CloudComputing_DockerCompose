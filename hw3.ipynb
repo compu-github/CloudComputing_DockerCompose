{
 "cells": [
  {
   "cell_type": "code",
   "execution_count": 100,
   "id": "6c9a9567",
   "metadata": {
    "id": "6c9a9567"
   },
   "outputs": [],
   "source": [
    "import requests"
   ]
  },
  {
   "cell_type": "code",
   "execution_count": 101,
   "id": "8e8a940b",
   "metadata": {
    "id": "8e8a940b"
   },
   "outputs": [],
   "source": [
    "from bs4 import BeautifulSoup"
   ]
  },
  {
   "cell_type": "code",
   "execution_count": 102,
   "id": "db021340",
   "metadata": {
    "id": "db021340"
   },
   "outputs": [],
   "source": [
    "import json"
   ]
  },
  {
   "cell_type": "code",
   "execution_count": 103,
   "id": "8bVMPSyVZQ3U",
   "metadata": {
    "id": "8bVMPSyVZQ3U"
   },
   "outputs": [],
   "source": [
    "import datetime"
   ]
  },
  {
   "cell_type": "code",
   "execution_count": 104,
   "id": "jF_P5_1WX44-",
   "metadata": {
    "id": "jF_P5_1WX44-"
   },
   "outputs": [],
   "source": [
    "def get_article(url):\n",
    "    article = dict()\n",
    "    r = requests.get(url, auth=('user', 'pass'))\n",
    "    article['soup'] = BeautifulSoup(r.content, 'html.parser')\n",
    "    article['url'] = url\n",
    "    article['header'] = article['soup'].title.text\n",
    "    article['text'] = article['soup'].get_text()\n",
    "    article['datetime'] = str(datetime.datetime.now())\n",
    "    return article"
   ]
  },
  {
   "cell_type": "code",
   "execution_count": 134,
   "id": "i07ntC8dngOr",
   "metadata": {
    "id": "i07ntC8dngOr"
   },
   "outputs": [],
   "source": [
    "def extract_article_links(article, queue, visited):\n",
    "    article_hrefs = article['soup'].find_all('a', href=True)\n",
    "    for tag in article_hrefs:\n",
    "        if tag['href']:\n",
    "            link = tag['href']\n",
    "            if link not in visited:\n",
    "                if 'html' in link:\n",
    "                    if 'http' in link:\n",
    "                        queue.add(link)\n",
    "                    elif 'http' not in link and link[0] == '/':\n",
    "                        new_link = 'https://www.yahoo.com' + link\n",
    "                        queue.add(new_link)\n",
    "                    else:\n",
    "                        continue\n",
    "                else:\n",
    "                    continue\n",
    "            else:\n",
    "                continue  \n",
    "    return queue"
   ]
  },
  {
   "cell_type": "code",
   "execution_count": 135,
   "id": "t3yf099QDCm4",
   "metadata": {
    "id": "t3yf099QDCm4"
   },
   "outputs": [],
   "source": [
    "from pymongo import MongoClient\n",
    "network_mdb = '172.18.0.5'\n",
    "client = MongoClient(network_mdb, 27017)\n",
    "db = client.test_database\n",
    "collection = db.test_collection"
   ]
  },
  {
   "cell_type": "code",
   "execution_count": 142,
   "id": "860d9811",
   "metadata": {
    "colab": {
     "base_uri": "https://localhost:8080/",
     "height": 581
    },
    "id": "860d9811",
    "outputId": "fd62dbc2-1724-41ac-b115-e5653d9dbc7d"
   },
   "outputs": [
    {
     "name": "stdout",
     "output_type": "stream",
     "text": [
      "current queue length is1\n",
      "current visited size is0\n",
      "current queue length is1\n",
      "current visited size is0\n",
      "requesting page with URL: https://www.yahoo.com\n",
      "adding data\n",
      "requesting page with URL: https://legal.yahoo.com/us/en/yahoo/privacy/dashboard/index.html\n",
      "adding data\n",
      "requesting page with URL: https://www.yahoo.com/us/en/yahoo/privacy/dashboard/index.html\n",
      "adding data\n",
      "requesting page with URL: https://www.yahoo.com/us/en/yahoo/privacy/products/index.html\n",
      "adding data\n",
      "requesting page with URL: https://www.yahoo.com/us/en/yahoo/ip/recidivism/index.html\n",
      "adding data\n",
      "requesting page with URL: https://www.yahoo.com/us/en/yahoo/permissions/requests/index.html\n",
      "adding data\n",
      "requesting page with URL: https://www.yahoo.com/us/en/yahoo/privacy/adinfo/index.html\n",
      "adding data\n",
      "requesting page with URL: https://www.yahoo.com/us/en/yahoo/ip/index.html\n",
      "adding data\n",
      "requesting page with URL: https://www.yahoo.com/us/en/yahoo/privacy/topics/index.html\n",
      "adding data\n",
      "requesting page with URL: https://www.yahoo.com/us/en/yahoo/privacy/index.html\n",
      "adding data\n",
      "current queue length is7\n",
      "current visited size is10\n",
      "requesting page with URL: https://www.yahoo.com/us/en/yahoo/privacy/california/index.html\n",
      "adding data\n",
      "requesting page with URL: https://www.yahoo.com/us/en/yahoo/ip/counterfeits/index.html\n",
      "adding data\n",
      "requesting page with URL: https://www.yahoo.com/us/en/yahoo/guidelines/index.html\n",
      "adding data\n",
      "requesting page with URL: https://www.yahoo.com/us/en/yahoo/privacy/topics/thirdparties/index.html\n",
      "adding data\n",
      "requesting page with URL: https://www.yahoo.com/us/en/yahoo/ip/counter-notification/index.html\n",
      "adding data\n"
     ]
    }
   ],
   "source": [
    "articles = []\n",
    "visited = set()\n",
    "queue = set()\n",
    "depth = 15\n",
    "added_articleid = list()\n",
    "\n",
    "some_url = 'https://www.yahoo.com'\n",
    "queue.add(some_url)\n",
    "\n",
    "print('current queue length is' + str(len(queue)))\n",
    "print('current visited size is' + str(len(visited)))\n",
    "while depth:\n",
    "    if queue:\n",
    "        if not len(visited) % 10:\n",
    "            print('current queue length is' + str(len(queue)))\n",
    "            print('current visited size is' + str(len(visited)))\n",
    "        if len(visited) >= 30:\n",
    "            print('30 urls visited! Shutting down...')\n",
    "            break\n",
    "        article_link = queue.pop()\n",
    "        visited.add(article_link)\n",
    "        print('requesting page with URL: ' + article_link)\n",
    "        article = get_article(article_link)\n",
    "        print('adding data')\n",
    "        queue = extract_article_links(article, queue, visited)\n",
    "    \n",
    "        if article['url'] != 'https://www.yahoo.com/':\n",
    "            article.pop('soup')\n",
    "            added_id = collection.insert_one(article).inserted_id\n",
    "            added_articleid.append(added_id)\n",
    "            article.pop('_id')\n",
    "            articles.append(article)\n",
    "    depth = depth - 1"
   ]
  },
  {
   "cell_type": "code",
   "execution_count": 143,
   "id": "9ff67da3",
   "metadata": {},
   "outputs": [
    {
     "data": {
      "text/plain": [
       "15"
      ]
     },
     "execution_count": 143,
     "metadata": {},
     "output_type": "execute_result"
    }
   ],
   "source": [
    "len(visited)"
   ]
  },
  {
   "cell_type": "code",
   "execution_count": 144,
   "id": "ABuKStkxFDer",
   "metadata": {
    "id": "ABuKStkxFDer"
   },
   "outputs": [],
   "source": [
    "with open('data.jason', 'w', encoding='utf-8') as w:\n",
    "  json.dump(articles, w, indent = 4)"
   ]
  },
  {
   "cell_type": "code",
   "execution_count": null,
   "id": "60dd097b",
   "metadata": {},
   "outputs": [],
   "source": []
  }
 ],
 "metadata": {
  "colab": {
   "collapsed_sections": [],
   "name": "beutifulsoup_pachong_每页的链接广度优先_mongo.ipynb",
   "provenance": []
  },
  "kernelspec": {
   "display_name": "Python 3 (ipykernel)",
   "language": "python",
   "name": "python3"
  },
  "language_info": {
   "codemirror_mode": {
    "name": "ipython",
    "version": 3
   },
   "file_extension": ".py",
   "mimetype": "text/x-python",
   "name": "python",
   "nbconvert_exporter": "python",
   "pygments_lexer": "ipython3",
   "version": "3.8.10"
  }
 },
 "nbformat": 4,
 "nbformat_minor": 5
}
